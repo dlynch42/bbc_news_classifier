{
 "cells": [
  {
   "cell_type": "markdown",
   "metadata": {},
   "source": [
    "# Imports & Setup"
   ]
  },
  {
   "cell_type": "code",
   "execution_count": 23,
   "metadata": {},
   "outputs": [],
   "source": [
    "# !pip install ydata-profiling\n",
    "# !pip install ipywidgets # needed for ProfileReport"
   ]
  },
  {
   "cell_type": "code",
   "execution_count": 68,
   "metadata": {},
   "outputs": [],
   "source": [
    "import numpy as np \n",
    "import pandas as pd \n",
    "import matplotlib.pyplot as plt\n",
    "import seaborn as sns\n",
    "\n",
    "import os\n",
    "import sys\n",
    "import gc\n",
    "from time import perf_counter \n",
    "from tqdm import tqdm\n",
    "\n",
    "import string\n",
    "import re\n",
    "\n",
    "import itertools\n",
    "from itertools import permutations, product, combinations\n",
    "from functools import reduce\n",
    "\n",
    "import re\n",
    "import nltk.corpus\n",
    "from nltk.corpus import stopwords\n",
    "from nltk.tokenize import word_tokenize\n",
    "from nltk.stem import WordNetLemmatizer\n",
    "from string import digits\n",
    "\n",
    "# Machine learning packages\n",
    "from sklearn.model_selection import train_test_split, GridSearchCV, learning_curve\n",
    "from sklearn.metrics import accuracy_score, confusion_matrix, classification_report, roc_auc_score, roc_curve, auc\n",
    "from sklearn.feature_extraction.text import TfidfVectorizer, CountVectorizer, TfidfTransformer \n",
    "from sklearn.decomposition import NMF\n",
    "from sklearn.cluster import KMeans\n",
    "from sklearn.ensemble import RandomForestClassifier\n",
    "from sklearn.base import BaseEstimator, ClassifierMixin\n",
    "\n",
    "# Optional\n",
    "# from ydata_profiling import ProfileReport\n",
    "# import ipywidgets"
   ]
  },
  {
   "cell_type": "markdown",
   "metadata": {},
   "source": [
    "## Load Data"
   ]
  },
  {
   "cell_type": "code",
   "execution_count": 3,
   "metadata": {},
   "outputs": [],
   "source": [
    "train = pd.read_csv('data/BBC News Train.csv')\n",
    "test = pd.read_csv('data/BBC News Test.csv')\n",
    "sample_solution = pd.read_csv(\"data/BBC News Sample Solution.csv\")"
   ]
  },
  {
   "cell_type": "markdown",
   "metadata": {},
   "source": [
    "## Profile Report - Optional"
   ]
  },
  {
   "cell_type": "code",
   "execution_count": 4,
   "metadata": {},
   "outputs": [],
   "source": [
    "# profile = ProfileReport(train, title=\"Test Profiling Report\") #, explorative=True)\n",
    "# profile.to_notebook_iframe()\n",
    "# profile.to_file(\"test_profile.html\")"
   ]
  },
  {
   "cell_type": "markdown",
   "metadata": {},
   "source": [
    "# EDA\n",
    "- Visualize the raw data of the training set by:\n",
    "    - Viewing the individual records\n",
    "    - View the information about the dataset\n",
    "    - Creating a histogram to visualize the data\n",
    "    - Develop a conclusion about the data\n",
    "\n",
    "- Findings from below:\n",
    "    - There are 1490 news grouped into 5 topics\n",
    "    - There are no null/nan/missing values\n",
    "    - Classes are relatively balanced. \n",
    "    - The most common and least common topics are sports and entertainment respectively.\n",
    "    - There are 50 non-unique articles from `train.nunique()`\n",
    "    - After tokenizing the document, the maximum, minimum, and average amount of words in each article are (1698, 48, 219.71744966442952)"
   ]
  },
  {
   "cell_type": "code",
   "execution_count": 5,
   "metadata": {},
   "outputs": [
    {
     "data": {
      "text/html": [
       "<div>\n",
       "<style scoped>\n",
       "    .dataframe tbody tr th:only-of-type {\n",
       "        vertical-align: middle;\n",
       "    }\n",
       "\n",
       "    .dataframe tbody tr th {\n",
       "        vertical-align: top;\n",
       "    }\n",
       "\n",
       "    .dataframe thead th {\n",
       "        text-align: right;\n",
       "    }\n",
       "</style>\n",
       "<table border=\"1\" class=\"dataframe\">\n",
       "  <thead>\n",
       "    <tr style=\"text-align: right;\">\n",
       "      <th></th>\n",
       "      <th>ArticleId</th>\n",
       "      <th>Text</th>\n",
       "      <th>Category</th>\n",
       "    </tr>\n",
       "  </thead>\n",
       "  <tbody>\n",
       "    <tr>\n",
       "      <th>0</th>\n",
       "      <td>1833</td>\n",
       "      <td>worldcom ex-boss launches defence lawyers defe...</td>\n",
       "      <td>business</td>\n",
       "    </tr>\n",
       "    <tr>\n",
       "      <th>1</th>\n",
       "      <td>154</td>\n",
       "      <td>german business confidence slides german busin...</td>\n",
       "      <td>business</td>\n",
       "    </tr>\n",
       "    <tr>\n",
       "      <th>2</th>\n",
       "      <td>1101</td>\n",
       "      <td>bbc poll indicates economic gloom citizens in ...</td>\n",
       "      <td>business</td>\n",
       "    </tr>\n",
       "    <tr>\n",
       "      <th>3</th>\n",
       "      <td>1976</td>\n",
       "      <td>lifestyle  governs mobile choice  faster  bett...</td>\n",
       "      <td>tech</td>\n",
       "    </tr>\n",
       "    <tr>\n",
       "      <th>4</th>\n",
       "      <td>917</td>\n",
       "      <td>enron bosses in $168m payout eighteen former e...</td>\n",
       "      <td>business</td>\n",
       "    </tr>\n",
       "  </tbody>\n",
       "</table>\n",
       "</div>"
      ],
      "text/plain": [
       "   ArticleId                                               Text  Category\n",
       "0       1833  worldcom ex-boss launches defence lawyers defe...  business\n",
       "1        154  german business confidence slides german busin...  business\n",
       "2       1101  bbc poll indicates economic gloom citizens in ...  business\n",
       "3       1976  lifestyle  governs mobile choice  faster  bett...      tech\n",
       "4        917  enron bosses in $168m payout eighteen former e...  business"
      ]
     },
     "execution_count": 5,
     "metadata": {},
     "output_type": "execute_result"
    }
   ],
   "source": [
    "train.head()"
   ]
  },
  {
   "cell_type": "code",
   "execution_count": 6,
   "metadata": {},
   "outputs": [
    {
     "name": "stdout",
     "output_type": "stream",
     "text": [
      "<class 'pandas.core.frame.DataFrame'>\n",
      "RangeIndex: 1490 entries, 0 to 1489\n",
      "Data columns (total 3 columns):\n",
      " #   Column     Non-Null Count  Dtype \n",
      "---  ------     --------------  ----- \n",
      " 0   ArticleId  1490 non-null   int64 \n",
      " 1   Text       1490 non-null   object\n",
      " 2   Category   1490 non-null   object\n",
      "dtypes: int64(1), object(2)\n",
      "memory usage: 35.0+ KB\n"
     ]
    }
   ],
   "source": [
    "train.info()"
   ]
  },
  {
   "cell_type": "code",
   "execution_count": 7,
   "metadata": {},
   "outputs": [
    {
     "data": {
      "text/plain": [
       "ArticleId    1490\n",
       "Text         1440\n",
       "Category        5\n",
       "dtype: int64"
      ]
     },
     "execution_count": 7,
     "metadata": {},
     "output_type": "execute_result"
    }
   ],
   "source": [
    "train.nunique()"
   ]
  },
  {
   "cell_type": "code",
   "execution_count": 8,
   "metadata": {},
   "outputs": [
    {
     "data": {
      "image/png": "[encoded data removed]",
      "text/plain": [
       "<Figure size 640x480 with 1 Axes>"
      ]
     },
     "metadata": {},
     "output_type": "display_data"
    }
   ],
   "source": [
    "train['Category'].value_counts().plot(kind='bar')\n",
    "plt.xlabel('Topic')\n",
    "plt.ylabel('Number of Articles')\n",
    "plt.title('Number of Articles per Topic')\n",
    "\n",
    "plt.xticks(rotation=90)\n",
    "\n",
    "for i, v in enumerate(train['Category'].value_counts()):\n",
    "    plt.text(i, v, str(v), ha='center', va='bottom')\n",
    "\n",
    "plt.show()"
   ]
  },
  {
   "cell_type": "markdown",
   "metadata": {},
   "source": [
    "Tokenize"
   ]
  },
  {
   "cell_type": "code",
   "execution_count": 9,
   "metadata": {},
   "outputs": [],
   "source": [
    "stop_words = stopwords.words('english')\n",
    "train['Text'] = train['Text'].apply(lambda row: re.sub(r'[^\\w\\s]+', '', row))\n",
    "train['Text'] = train['Text'].apply(lambda x: ' '.join([word for word in x.split() if word not in (stop_words)]))\n",
    "train['Text'] = train['Text'].apply(lambda x: re.sub(' +', ' ', x))\n",
    "\n",
    "X_train, X_valid, y_train, y_valid = train_test_split(train['Text'], train['Category'], test_size=0.33, random_state=42)"
   ]
  },
  {
   "cell_type": "code",
   "execution_count": 10,
   "metadata": {},
   "outputs": [
    {
     "name": "stderr",
     "output_type": "stream",
     "text": [
      "[nltk_data] Downloading package punkt to\n",
      "[nltk_data]     /Users/devinlynch/nltk_data...\n",
      "[nltk_data]   Package punkt is already up-to-date!\n"
     ]
    }
   ],
   "source": [
    "nltk.download('punkt')\n",
    "\n",
    "dataframe = pd.DataFrame()\n",
    "\n",
    "dataframe['tokenized'] = train.apply(lambda row: nltk.word_tokenize(row['Text']), axis=1)\n",
    "dataframe['num_words'] = dataframe['tokenized'].apply(lambda lst: len(lst))"
   ]
  },
  {
   "cell_type": "code",
   "execution_count": 11,
   "metadata": {},
   "outputs": [
    {
     "name": "stdout",
     "output_type": "stream",
     "text": [
      "<class 'pandas.core.frame.DataFrame'>\n",
      "RangeIndex: 1490 entries, 0 to 1489\n",
      "Data columns (total 2 columns):\n",
      " #   Column     Non-Null Count  Dtype \n",
      "---  ------     --------------  ----- \n",
      " 0   tokenized  1490 non-null   object\n",
      " 1   num_words  1490 non-null   int64 \n",
      "dtypes: int64(1), object(1)\n",
      "memory usage: 23.4+ KB\n"
     ]
    }
   ],
   "source": [
    "dataframe.info()"
   ]
  },
  {
   "cell_type": "code",
   "execution_count": 12,
   "metadata": {},
   "outputs": [
    {
     "data": {
      "text/plain": [
       "(1698, 48, 219.71744966442952)"
      ]
     },
     "execution_count": 12,
     "metadata": {},
     "output_type": "execute_result"
    }
   ],
   "source": [
    "max_words = dataframe['num_words'].max()\n",
    "min_words = dataframe['num_words'].min()\n",
    "avg_words = dataframe['num_words'].mean()\n",
    "\n",
    "max_words, min_words, avg_words"
   ]
  },
  {
   "cell_type": "markdown",
   "metadata": {},
   "source": [
    "- Create the datasets using tfidf to train the NMF model"
   ]
  },
  {
   "cell_type": "code",
   "execution_count": 15,
   "metadata": {},
   "outputs": [],
   "source": [
    "def tfidf(X_train, X_valid):\n",
    "    tfidf_vectorizer = TfidfVectorizer(max_df=0.95, min_df=2, stop_words=\"english\", lowercase = True)\n",
    "    tfidf_vectorizer.fit(X_train)\n",
    "    tfidf_train = tfidf_vectorizer.transform(X_train)\n",
    "    tfidf_valid = tfidf_vectorizer.transform(X_valid)\n",
    "    tokens = tfidf_vectorizer.get_feature_names_out()\n",
    "    train_vect = pd.DataFrame(data = tfidf_train.toarray(),columns = tokens)\n",
    "    valid_vect = pd.DataFrame(data = tfidf_valid.toarray(),columns = tokens)\n",
    "    return tfidf_train, tfidf_valid, train_vect, valid_vect"
   ]
  },
  {
   "cell_type": "code",
   "execution_count": 21,
   "metadata": {},
   "outputs": [],
   "source": [
    "tfidf_train, tfidf_valid, train_vect, valid_vect = tfidf(X_train, X_valid)"
   ]
  },
  {
   "cell_type": "markdown",
   "metadata": {},
   "source": [
    "# Model Construction\n",
    "Use [`sklearn.decomposition.NMF`]('https://scikit-learn.org/stable/modules/generated/sklearn.decomposition.NMF.html') to construct an NMF model. \n",
    "\n",
    "First initialize the model:"
   ]
  },
  {
   "cell_type": "code",
   "execution_count": 16,
   "metadata": {},
   "outputs": [],
   "source": [
    "def model(beta_loss, solver):\n",
    "    nmf = NMF(\n",
    "        init='nndsvdar', # Nonnegative Double Singular Value Decomposition (NNDSVD) initialization (better for sparseness)\n",
    "        # n_components=5, \n",
    "        n_components='auto',\n",
    "        solver=solver,\n",
    "        random_state=1,\n",
    "        beta_loss=beta_loss,\n",
    "        alpha_W=0.00005,\n",
    "        alpha_H=0.00005,\n",
    "        l1_ratio=.1,\n",
    "    )\n",
    "    return nmf"
   ]
  },
  {
   "cell_type": "markdown",
   "metadata": {},
   "source": [
    "Create a predict method:"
   ]
  },
  {
   "cell_type": "code",
   "execution_count": 17,
   "metadata": {},
   "outputs": [],
   "source": [
    "def predict(matrix):\n",
    "    sortedMatrix = np.argsort(matrix)\n",
    "    n_predictions, maxValue = sortedMatrix.shape\n",
    "    \n",
    "    predictions = [[sortedMatrix[i][maxValue - 1]] for i in range(n_predictions)]\n",
    "    topics = np.empty(n_predictions, dtype = np.int64)\n",
    "    \n",
    "    for i in range(n_predictions):\n",
    "        topics[i] = predictions[i][0]\n",
    "    return topics"
   ]
  },
  {
   "cell_type": "markdown",
   "metadata": {},
   "source": [
    "Calculate the accuracy based on the best permutation of categories:"
   ]
  },
  {
   "cell_type": "code",
   "execution_count": 74,
   "metadata": {},
   "outputs": [],
   "source": [
    "def label_permute(ytdf, yp, perm_list, n=5):\n",
    "    \"\"\"\n",
    "    ytdf: labels dataframe object\n",
    "    yp: clustering label prediction output\n",
    "    Returns permuted label order and accuracy. \n",
    "    Example output: (3, 4, 1, 2, 0), 0.74 \n",
    "    \"\"\"\n",
    "    unique = np.unique(ytdf)\n",
    "    perm = itertools.permutations(perm_list)\n",
    "    accuracyMatrix = []\n",
    "    for i in list(perm):\n",
    "        j = 0\n",
    "        ytdf_guess = ytdf\n",
    "        for k in unique:\n",
    "            ytdf_guess = np.where(ytdf_guess == k, i[j], ytdf_guess)\n",
    "            j+=1\n",
    "        pred = ytdf_guess.tolist()\n",
    "\n",
    "        accuracy = accuracy_score(pred,yp)\n",
    "        accuracyMatrix.append((i,accuracy))\n",
    "    i = 0\n",
    "    maxAccuracy = 0\n",
    "    while i < len(accuracyMatrix):\n",
    "        if accuracyMatrix[i][1] > maxAccuracy:\n",
    "            maxtuple = accuracyMatrix[i]\n",
    "            maxAccuracy = accuracyMatrix[i][1]\n",
    "        i += 1\n",
    "    \n",
    "    # print(maxtuple)\n",
    "    return maxtuple"
   ]
  },
  {
   "cell_type": "code",
   "execution_count": 34,
   "metadata": {},
   "outputs": [],
   "source": [
    "labels = [0,1,2,3,4]"
   ]
  },
  {
   "cell_type": "markdown",
   "metadata": {},
   "source": [
    "Predict using the Frobenius loss function:"
   ]
  },
  {
   "cell_type": "code",
   "execution_count": 66,
   "metadata": {},
   "outputs": [
    {
     "name": "stdout",
     "output_type": "stream",
     "text": [
      "Model: NMF(alpha_H=5e-05, alpha_W=5e-05, init='nndsvdar', l1_ratio=0.1, n_components=5,\n",
      "    random_state=1)\n",
      "((4, 3, 1, 0, 2), 0.8907815631262525)\n",
      "(4, 3, 1, 0, 2)\n",
      "0.8907815631262525\n"
     ]
    }
   ],
   "source": [
    "# Training Data\n",
    "\n",
    "m = model(\"frobenius\", \"cd\").fit(tfidf_train)\n",
    "print(f'Model: {m}')\n",
    "\n",
    "yhat_fb_train = predict(m.transform(tfidf_train))\n",
    "label_order, accuracy = label_permute(y_train, yhat_fb_train,labels)\n",
    "\n",
    "print(label_order)\n",
    "print(accuracy)"
   ]
  },
  {
   "cell_type": "code",
   "execution_count": 67,
   "metadata": {},
   "outputs": [
    {
     "name": "stdout",
     "output_type": "stream",
     "text": [
      "Model: NMF(alpha_H=5e-05, alpha_W=5e-05, init='nndsvdar', l1_ratio=0.1, n_components=5,\n",
      "    random_state=1)\n",
      "((4, 3, 1, 0, 2), 0.9105691056910569)\n",
      "(4, 3, 1, 0, 2)\n",
      "0.9105691056910569\n"
     ]
    }
   ],
   "source": [
    "# Validation data \n",
    "\n",
    "m = model(\"frobenius\", \"cd\").fit(tfidf_train)\n",
    "print(f'Model: {m}')\n",
    "yhat_fb_valid = predict(m.transform(tfidf_valid))\n",
    "label_order, accuracy = label_permute(y_valid, yhat_fb_valid,labels)\n",
    "\n",
    "print(label_order)\n",
    "print(accuracy)"
   ]
  },
  {
   "cell_type": "markdown",
   "metadata": {},
   "source": [
    "Predict using the Kullback-Leibler loss function\n",
    "- `mu` is the only solver compatible with KL"
   ]
  },
  {
   "cell_type": "code",
   "execution_count": 64,
   "metadata": {},
   "outputs": [
    {
     "name": "stdout",
     "output_type": "stream",
     "text": [
      "trying with NMF(alpha_H=5e-05, alpha_W=5e-05, beta_loss='kullback-leibler', init='nndsvdar',\n",
      "    l1_ratio=0.1, n_components=5, random_state=1, solver='mu')\n",
      "((4, 3, 1, 0, 2), 0.9478957915831663)\n",
      "(4, 3, 1, 0, 2)\n",
      "0.9478957915831663\n"
     ]
    }
   ],
   "source": [
    "# Training data\n",
    "\n",
    "m = model(\"kullback-leibler\", \"mu\").fit(tfidf_train)\n",
    "print(f'trying with {m}')\n",
    "\n",
    "yhat_kl_train = predict(m.transform(tfidf_train))\n",
    "label_order, accuracy = label_permute(y_train, yhat_kl_train,labels)\n",
    "\n",
    "print(label_order)\n",
    "print(accuracy)"
   ]
  },
  {
   "cell_type": "code",
   "execution_count": 65,
   "metadata": {},
   "outputs": [
    {
     "name": "stdout",
     "output_type": "stream",
     "text": [
      "trying with NMF(alpha_H=5e-05, alpha_W=5e-05, beta_loss='kullback-leibler', init='nndsvdar',\n",
      "    l1_ratio=0.1, n_components=5, random_state=1, solver='mu')\n",
      "((4, 3, 1, 0, 2), 0.9613821138211383)\n",
      "(4, 3, 1, 0, 2)\n",
      "0.9613821138211383\n"
     ]
    }
   ],
   "source": [
    "# Validation data\n",
    "\n",
    "m = model(\"kullback-leibler\", \"mu\").fit(tfidf_train)\n",
    "print(f'trying with {m}')\n",
    "\n",
    "yhat_kb_valid = predict(m.transform(tfidf_valid))\n",
    "label_order, accuracy = label_permute(y_valid, yhat_kb_valid, labels)\n",
    "\n",
    "print(label_order)\n",
    "print(accuracy)"
   ]
  },
  {
   "cell_type": "markdown",
   "metadata": {},
   "source": [
    "# Unsupervised Learning Comparision: K-Means"
   ]
  },
  {
   "cell_type": "code",
   "execution_count": 76,
   "metadata": {},
   "outputs": [
    {
     "name": "stdout",
     "output_type": "stream",
     "text": [
      "0.8150406504065041\n"
     ]
    }
   ],
   "source": [
    "km = KMeans(n_clusters=5, n_init=10) # changed to 10 from auto to avoid warning (default is 10)\n",
    "km.fit(tfidf_train)\n",
    "yhat = km.predict(tfidf_valid)\n",
    "labelorder, acc = label_permute(y_valid, yhat,labels)\n",
    "print(acc)"
   ]
  },
  {
   "cell_type": "markdown",
   "metadata": {},
   "source": [
    "# Supervised Learning Comparison: Gradient Boosting"
   ]
  },
  {
   "cell_type": "code",
   "execution_count": null,
   "metadata": {},
   "outputs": [],
   "source": []
  }
 ],
 "metadata": {
  "kernelspec": {
   "display_name": "Python 3",
   "language": "python",
   "name": "python3"
  },
  "language_info": {
   "codemirror_mode": {
    "name": "ipython",
    "version": 3
   },
   "file_extension": ".py",
   "mimetype": "text/x-python",
   "name": "python",
   "nbconvert_exporter": "python",
   "pygments_lexer": "ipython3",
   "version": "3.10.9"
  }
 },
 "nbformat": 4,
 "nbformat_minor": 2
}
